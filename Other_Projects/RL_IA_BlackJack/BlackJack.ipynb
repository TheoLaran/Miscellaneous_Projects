{
 "cells": [
  {
   "cell_type": "markdown",
   "source": [
    "<div align=\"center\">\n",
    "\t<br>\n",
    "\t<br>\n",
    "  \t<a href=\"http://mosig.imag.fr/\">\n",
    "\t\t<img src=\"uga.jpg\" width=\"400\">\n",
    "\t</a>\n",
    "    <h1><b>BlackJack AI</b></h1>\n",
    "    <h4><i>reinforcement learning model who learned to play blackJack.</i></h4>\n",
    "\n",
    "</div>\n",
    "\n",
    "---\n"
   ],
   "metadata": {
    "collapsed": false,
    "pycharm": {
     "name": "#%% md\n"
    }
   }
  },
  {
   "cell_type": "markdown",
   "source": [
    "# <b>1. Introduction</b>\n",
    "\n",
    "In this notebook we will make an AI to play the best move at the blackjack game\n",
    "<br>\n",
    "This game is hard to predict cause the casino always win, but we can try to found the move who maximise the profit.\n"
   ],
   "metadata": {
    "collapsed": false,
    "pycharm": {
     "name": "#%% md\n"
    }
   }
  },
  {
   "cell_type": "markdown",
   "source": [
    "# <b>2. Overview of our models</b>"
   ],
   "metadata": {
    "collapsed": false,
    "pycharm": {
     "name": "#%% md\n"
    }
   }
  },
  {
   "cell_type": "markdown",
   "source": [
    "## <b>2.0 Imports</b>"
   ],
   "metadata": {
    "collapsed": false,
    "pycharm": {
     "name": "#%% md\n"
    }
   }
  },
  {
   "cell_type": "code",
   "execution_count": 90,
   "outputs": [],
   "source": [
    "import math\n",
    "import random\n",
    "import gym\n",
    "import numpy as np\n"
   ],
   "metadata": {
    "collapsed": false,
    "pycharm": {
     "name": "#%%\n"
    }
   }
  },
  {
   "cell_type": "markdown",
   "source": [
    "## <b>2.1 Make the environnement </b>\n",
    "\n",
    "We make our environment thanks to gym\n",
    "\n",
    "it represent the bank's card by is value (from 1 to 10), and the player's card by the sum of all his cards (from 2 to 30)\n"
   ],
   "metadata": {
    "collapsed": false,
    "pycharm": {
     "name": "#%% md\n"
    }
   }
  },
  {
   "cell_type": "code",
   "execution_count": 91,
   "outputs": [],
   "source": [
    "env = gym.make('Blackjack-v1')"
   ],
   "metadata": {
    "collapsed": false,
    "pycharm": {
     "name": "#%%\n"
    }
   }
  },
  {
   "cell_type": "markdown",
   "source": [
    "## <b>2.2 Utils functions</b>\n",
    "\n",
    "Here we need two function to help the model\n",
    "\n",
    "First, we need to initialize our QTable with 0 everywhere. We put all the values greater than 21 at the end, cause they represent the same things, the player have burst\n",
    "The we need to convert the value of the result given by the environnement, to the index in the table\n"
   ],
   "metadata": {
    "collapsed": false,
    "pycharm": {
     "name": "#%% md\n"
    }
   }
  },
  {
   "cell_type": "code",
   "execution_count": 92,
   "outputs": [],
   "source": [
    "def init_q_table():\n",
    "    \"\"\"\n",
    "    usage : q_table[_bank_cards][_player_card][action]\n",
    "    :return: a new q_table with value equal to 0.0\n",
    "    \"\"\"\n",
    "    return [[[0.0 for _ in range(2)] for _ in range(21)] for _ in range(10)]\n",
    "\n",
    "\n",
    "def get_card(_env):\n",
    "    _player_card, _bank_cards, _ = _env\n",
    "    _player_card = min(_player_card - 2, 19)\n",
    "    _bank_cards -= 1\n",
    "    return _player_card, _bank_cards"
   ],
   "metadata": {
    "collapsed": false,
    "pycharm": {
     "name": "#%%\n"
    }
   }
  },
  {
   "cell_type": "markdown",
   "source": [
    "## <b>2.3 Modelisation of the player</b>\n",
    "\n",
    "We create a player, who will represent in fact our AI\n",
    "\n",
    "It have multiples parameters:\n",
    "   * His money, we start at 0 and suppose that it can decrease infinitely.\n",
    "   * The environnement to be able to see the drawn card.\n",
    "   * The number of games that have been played.\n",
    "   * The qtable, to get his supposed optimized choice.\n",
    "   * Some hyperparameters to control the target the optimal QTable.\n"
   ],
   "metadata": {
    "collapsed": false,
    "pycharm": {
     "name": "#%% md\n"
    }
   }
  },
  {
   "cell_type": "code",
   "execution_count": 119,
   "outputs": [],
   "source": [
    "class Player:\n",
    "    def __init__(self, env, max_episodes):\n",
    "        #Player attributes\n",
    "        self.money = 0\n",
    "        self.env = env\n",
    "        self.nb_episode = 0\n",
    "        #IA attributes\n",
    "        self.q_table = init_q_table()\n",
    "        #Hyperparameters\n",
    "        self.max_episodes = max_episodes\n",
    "        self.alphaF = self._set_alpha(10**-3)\n",
    "        self.alpha = 0.2\n",
    "        self.gamma = 0.6\n",
    "        self.pInit = 0.6\n",
    "        self.pTarget = 0.1\n",
    "        self.epsilon = 0\n",
    "\n",
    "\n",
    "    def epsilon_greedy_policy(self, _bank_cards, _player_card):\n",
    "        \"\"\"\n",
    "            :param _bank_cards: the value of the bank's card\n",
    "            :param _player_card: the sum of the player's cards\n",
    "            :return: a random value with a probability of epsilon, the best action (according to the q_table) with a probability of 1-epsilon\n",
    "        \"\"\"\n",
    "        if random.random() < self.epsilon:\n",
    "            return random.randint(0,1)\n",
    "        actions = self.q_table[_bank_cards][min(_player_card,21)]\n",
    "        new_action = np.argmax(actions)\n",
    "        return new_action\n",
    "\n",
    "    def _set_alpha(self, target_final_alpha):\n",
    "        '''\n",
    "            :param target_final_alpha: The value of alpha that we want at the last episode, generaly arround 10**-3\n",
    "            :return: the value x that solve $x^{max_episodes} = target_final_alpha$\n",
    "        '''\n",
    "        return math.exp(math.log(target_final_alpha) / self.max_episodes)\n",
    "\n",
    "    def update_hyperparameter(self):\n",
    "        \"\"\"\n",
    "            Update the hyperparameters according to the number of episodes that have been done\n",
    "        \"\"\"\n",
    "        self.alpha = self.alphaF ** self.nb_episode\n",
    "        r = (self.max_episodes - self.nb_episode) / self.max_episodes\n",
    "        self.epsilon = (self.pInit - self.pTarget) * r + self.pTarget\n",
    "\n",
    "    def step(self):\n",
    "        \"\"\"\n",
    "            Step of the new game, it need several step\n",
    "                - First we need to reset the environment\n",
    "                - Then we have to select a new action thanks to our policy\n",
    "                - Make the move according to the action\n",
    "                - Add in the history the play\n",
    "                - If the game is not finish we continue\n",
    "                - Otherwise we observe the reward and update the QTable, thanks to the history\n",
    "        \"\"\"\n",
    "        histo = []\n",
    "        _player_card, _bank_cards = get_card(env.reset())\n",
    "        while 1:\n",
    "            #St / At+1\n",
    "            _new_action = self.epsilon_greedy_policy(_bank_cards, _player_card)\n",
    "            _new_state, _reward, _done, _ = env.step(_new_action)\n",
    "            #St+1 / At+1\n",
    "            _new_player_cards, _ = get_card(_new_state)\n",
    "            histo.append((_player_card, _new_action))\n",
    "            if _done :\n",
    "                self.money += _reward\n",
    "                for player_card, action in reversed(histo):\n",
    "                    reward = self.gamma * _reward\n",
    "                    self.q_table[_bank_cards][player_card][action] +=  self.alpha * (reward - self.q_table[_bank_cards][player_card][action])\n",
    "                break\n",
    "            _player_card = _new_player_cards\n",
    "\n",
    "\n"
   ],
   "metadata": {
    "collapsed": false,
    "pycharm": {
     "name": "#%%\n"
    }
   }
  },
  {
   "cell_type": "markdown",
   "source": [
    "# <b>3 Training</b>\n",
    "\n",
    "Now we want to train it\n",
    "To do that we simulate a T steps"
   ],
   "metadata": {
    "collapsed": false,
    "pycharm": {
     "name": "#%% md\n"
    }
   }
  },
  {
   "cell_type": "code",
   "execution_count": 94,
   "outputs": [],
   "source": [
    "def train(player):\n",
    "    for _ in range(player.max_episodes):\n",
    "        player.nb_episode += 1\n",
    "        player.update_hyperparameter()\n",
    "        player.step()\n",
    "    return player"
   ],
   "metadata": {
    "collapsed": false,
    "pycharm": {
     "name": "#%%\n"
    }
   }
  },
  {
   "cell_type": "markdown",
   "source": [
    "# <b>4 Validation</b>\n",
    "\n",
    "Now we want to be sure that the player have train correctly, to do that we first reset his parameters, and set epsilon to 0 ( to avoid randomness )\n",
    "Then we simulate n steps and we save the money that the player won\n",
    "\n",
    "It return the amount of money that the player have at each steps\n"
   ],
   "metadata": {
    "collapsed": false,
    "pycharm": {
     "name": "#%% md\n"
    }
   }
  },
  {
   "cell_type": "code",
   "execution_count": 95,
   "outputs": [],
   "source": [
    "\n",
    "def validation(player, n, bet=10) :\n",
    "    \"\"\"\n",
    "    :param player: The player we want to evaluate\n",
    "    :param n: the number of epoch\n",
    "    :param bet: the amount of money that the player want to bet\n",
    "    :return: For each step the reward and the total amount of money that the player have, since gym return a value in {-1,0,1} we multiply the reward by 10 to be more realistic\n",
    "    \"\"\"\n",
    "    histo = []\n",
    "    player.epsilon = 0\n",
    "    player.money = 0\n",
    "    rewards = []\n",
    "    while n:\n",
    "        n -= 1\n",
    "        done = False\n",
    "        carte_joueur, _bank_cards = get_card(env.reset())\n",
    "        reward = 0\n",
    "        while not done :\n",
    "            new_action = player.epsilon_greedy_policy(_bank_cards, carte_joueur)\n",
    "            new_state, reward, done, _ = env.step(new_action)\n",
    "            carte_joueur, _ = get_card(new_state)\n",
    "            reward *= bet\n",
    "            player.money += reward\n",
    "        histo.append(player.money)\n",
    "        rewards.append(reward)\n",
    "    return histo, rewards\n",
    "\n"
   ],
   "metadata": {
    "collapsed": false,
    "pycharm": {
     "name": "#%%\n"
    }
   }
  },
  {
   "cell_type": "markdown",
   "source": [
    "# <b>5 Results and analysis</b>\n",
    "\n",
    "We chose to train the player on 10000 iterations\n",
    "\n",
    "The validation's number of epoch should be small, since the bank have a greater probability to win than the player, even if we maximise the gain expectation, il will be a negative value\n"
   ],
   "metadata": {
    "collapsed": false,
    "pycharm": {
     "name": "#%% md\n"
    }
   }
  },
  {
   "cell_type": "code",
   "execution_count": 183,
   "outputs": [],
   "source": [
    "import matplotlib.pyplot as plt\n",
    "\n",
    "T=10000\n",
    "bet=10\n",
    "\n",
    "p = Player(env, T)\n",
    "p = train(p)\n",
    "histo, rewards = validation(p, 250, bet=bet)\n"
   ],
   "metadata": {
    "collapsed": false,
    "pycharm": {
     "name": "#%%\n"
    }
   }
  },
  {
   "cell_type": "markdown",
   "source": [
    "We can plot the evolution of the bankroll of the player\n",
    "as we can see the AI have some profit at the beginning but quickly tend to a negative profit.\n",
    "This is due to the fact that in this game the bank's expectation of profit is greater than that the player's one"
   ],
   "metadata": {
    "collapsed": false,
    "pycharm": {
     "name": "#%% md\n"
    }
   }
  },
  {
   "cell_type": "code",
   "execution_count": 184,
   "outputs": [
    {
     "name": "stdout",
     "output_type": "stream",
     "text": [
      "The player win almost 0.36$ at each steps\n"
     ]
    },
    {
     "data": {
      "text/plain": "<Figure size 432x288 with 1 Axes>",
      "image/png": "[encoded data removed]"
     },
     "metadata": {
      "needs_background": "light"
     },
     "output_type": "display_data"
    }
   ],
   "source": [
    "plt.plot(histo)\n",
    "print(f\"The player win almost {np.mean(rewards)}$ at each steps\")"
   ],
   "metadata": {
    "collapsed": false,
    "pycharm": {
     "name": "#%%\n"
    }
   }
  }
 ],
 "metadata": {
  "kernelspec": {
   "display_name": "Python 3",
   "language": "python",
   "name": "python3"
  },
  "language_info": {
   "codemirror_mode": {
    "name": "ipython",
    "version": 2
   },
   "file_extension": ".py",
   "mimetype": "text/x-python",
   "name": "python",
   "nbconvert_exporter": "python",
   "pygments_lexer": "ipython2",
   "version": "2.7.6"
  }
 },
 "nbformat": 4,
 "nbformat_minor": 0
}
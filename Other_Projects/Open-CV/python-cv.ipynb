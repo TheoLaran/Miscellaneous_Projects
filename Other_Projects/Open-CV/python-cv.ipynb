{
 "cells": [
  {
   "cell_type": "markdown",
   "source": [
    "<h1> Open CV tutorial </h1>\n",
    "\n",
    "\n",
    "Welcome to my Open CV tutorial, this one have been made thanks to the \" Tech with Tim \" Tutorial, don't hesitate to watch his playlist <a href=\"https://www.youtube.com/playlist?list=PLzMcBGfZo4-lUA8uGjeXhBUUzPYc6vZRn\"> here</a>.\n",
    "\n",
    "If you want to run a particular section, don't forget to uncomment, the part were the image is display.\n",
    "\n",
    "\n"
   ],
   "metadata": {
    "collapsed": false,
    "pycharm": {
     "name": "#%% md\n"
    }
   }
  },
  {
   "cell_type": "code",
   "execution_count": 1,
   "outputs": [
    {
     "name": "stdout",
     "output_type": "stream",
     "text": [
      "Requirement already satisfied: numpy in /Users/laran/Library/Application Support/JetBrains/DataSpell2021.3/projects/workspace/venv/lib/python3.10/site-packages (1.22.3)\r\n",
      "\u001B[33mWARNING: You are using pip version 21.1.2; however, version 22.0.4 is available.\r\n",
      "You should consider upgrading via the '/Users/laran/Library/Application Support/JetBrains/DataSpell2021.3/projects/workspace/venv/bin/python -m pip install --upgrade pip' command.\u001B[0m\r\n",
      "Requirement already satisfied: opencv-python in /Users/laran/Library/Application Support/JetBrains/DataSpell2021.3/projects/workspace/venv/lib/python3.10/site-packages (4.5.5.64)\r\n",
      "Requirement already satisfied: numpy>=1.19.3 in /Users/laran/Library/Application Support/JetBrains/DataSpell2021.3/projects/workspace/venv/lib/python3.10/site-packages (from opencv-python) (1.22.3)\r\n",
      "\u001B[33mWARNING: You are using pip version 21.1.2; however, version 22.0.4 is available.\r\n",
      "You should consider upgrading via the '/Users/laran/Library/Application Support/JetBrains/DataSpell2021.3/projects/workspace/venv/bin/python -m pip install --upgrade pip' command.\u001B[0m\r\n"
     ]
    }
   ],
   "source": [
    "!pip install numpy\n",
    "!pip install opencv-python"
   ],
   "metadata": {
    "collapsed": false,
    "pycharm": {
     "name": "#%%\n"
    }
   }
  },
  {
   "cell_type": "code",
   "execution_count": 2,
   "outputs": [],
   "source": [
    "import cv2\n",
    "import numpy as np"
   ],
   "metadata": {
    "collapsed": false,
    "pycharm": {
     "name": "#%%\n"
    }
   }
  },
  {
   "cell_type": "markdown",
   "source": [
    "<h1> -----------------------Introduction----------------------- <h1>\n"
   ],
   "metadata": {
    "collapsed": false,
    "pycharm": {
     "name": "#%% md\n"
    }
   }
  },
  {
   "cell_type": "markdown",
   "source": [
    "<h2> Loading the image </h2> <br>\n",
    "    Different possibility for options :\n",
    "       <li> IMREAD_COLOR : by defaut, load the image, all transparency will be neglected\n",
    "       <li> IMREAD_GRAYSCALE : load the image in grayscale mode\n",
    "       <li> IMREAD_UNCHANGED :  load the image, including alpha channel ( transparency, ... )\n",
    "\n",
    "\n"
   ],
   "metadata": {
    "collapsed": false,
    "pycharm": {
     "name": "#%% md\n"
    }
   }
  },
  {
   "cell_type": "code",
   "execution_count": 3,
   "outputs": [],
   "source": [
    "img_1 = cv2.imread('assets/cat-eyes-cute.jpg', cv2.IMREAD_COLOR)\n",
    "img_2 = cv2.imread('assets/cat-eyes-cute.jpg', cv2.IMREAD_GRAYSCALE)\n",
    "img_3 = cv2.imread('assets/cat-eyes-cute.jpg', cv2.IMREAD_UNCHANGED)\n",
    "\n",
    "imgs = [img_1, img_2, img_3]\n",
    "img = imgs[0]"
   ],
   "metadata": {
    "collapsed": false,
    "pycharm": {
     "name": "#%%\n"
    }
   }
  },
  {
   "cell_type": "markdown",
   "source": [
    "<h3> Modifing the image </h3> <br>\n",
    "    Different possibility for options :\n",
    "       <li> IMREAD_COLOR : by defaut, load the image, all transparency will be neglected\n",
    "       <li> IMREAD_GRAYSCALE : load the image in grayscale mode\n",
    "       <li> IMREAD_UNCHANGED :  load the image, including alpha channel ( transparency, ... )\n",
    "\n",
    "\n"
   ],
   "metadata": {
    "collapsed": false,
    "pycharm": {
     "name": "#%% md\n"
    }
   }
  },
  {
   "cell_type": "code",
   "execution_count": 4,
   "outputs": [],
   "source": [
    "#Resize the image into a 300x300 one\n",
    "img = cv2.resize(img, (300,300))\n",
    "#Resize the image into a hakf size one\n",
    "img = cv2.resize(img, (0,0), fx=1/2, fy=1/2)"
   ],
   "metadata": {
    "collapsed": false,
    "pycharm": {
     "name": "#%%\n"
    }
   }
  },
  {
   "cell_type": "markdown",
   "source": [
    "<h3> Displaying the image </h3>"
   ],
   "metadata": {
    "collapsed": false,
    "pycharm": {
     "name": "#%% md\n"
    }
   }
  },
  {
   "cell_type": "code",
   "execution_count": 5,
   "outputs": [],
   "source": [
    "def display(image, timeout=0):\n",
    "    cv2.imshow('Image', image)\n",
    "\n",
    "    #Wait that the user press a key, skipped after 10s. if the value is 0, it will wait indefinitely\n",
    "    cv2.waitKey(timeout)\n",
    "    cv2.destroyAllWindows()\n",
    "#display(imgs[0], 1)"
   ],
   "metadata": {
    "collapsed": false,
    "pycharm": {
     "name": "#%%\n"
    }
   }
  },
  {
   "cell_type": "markdown",
   "source": [
    "<h3> Saving the image </h3>"
   ],
   "metadata": {
    "collapsed": false,
    "pycharm": {
     "name": "#%% md\n"
    }
   }
  },
  {
   "cell_type": "code",
   "execution_count": 6,
   "outputs": [
    {
     "data": {
      "text/plain": "True"
     },
     "execution_count": 6,
     "metadata": {},
     "output_type": "execute_result"
    }
   ],
   "source": [
    "cv2.imwrite('assets/my-cat-eyes-cute.jpg', img)"
   ],
   "metadata": {
    "collapsed": false,
    "pycharm": {
     "name": "#%%\n"
    }
   }
  },
  {
   "cell_type": "markdown",
   "source": [
    "<h1> -----------------------Image Fundamentals----------------------- <h1>"
   ],
   "metadata": {
    "collapsed": false,
    "pycharm": {
     "name": "#%% md\n"
    }
   }
  },
  {
   "cell_type": "markdown",
   "source": [
    "<h3> Image Representation </h3>"
   ],
   "metadata": {
    "collapsed": false,
    "pycharm": {
     "name": "#%% md\n"
    }
   }
  },
  {
   "cell_type": "code",
   "execution_count": 7,
   "outputs": [
    {
     "name": "stdout",
     "output_type": "stream",
     "text": [
      "(1600, 2560, 3)\n"
     ]
    }
   ],
   "source": [
    "img = imgs[0]\n",
    "#Height, Width, Channels (RGB)\n",
    "print(img.shape)"
   ],
   "metadata": {
    "collapsed": false,
    "pycharm": {
     "name": "#%%\n"
    }
   }
  },
  {
   "cell_type": "markdown",
   "source": [
    "<h3> Make some random colors </h3>"
   ],
   "metadata": {
    "collapsed": false,
    "pycharm": {
     "name": "#%% md\n"
    }
   }
  },
  {
   "cell_type": "code",
   "execution_count": 8,
   "outputs": [],
   "source": [
    "from random import randint as rd\n",
    "new_img = imgs[0]\n",
    "for i in range(new_img.shape[0]):\n",
    "    for j in range(new_img.shape[1]):\n",
    "        new_img[i][j] = [rd(0,255), rd(0,255), rd(0,255)]"
   ],
   "metadata": {
    "collapsed": false,
    "pycharm": {
     "name": "#%%\n"
    }
   }
  },
  {
   "cell_type": "markdown",
   "source": [
    "<h1> -------------------------- Cameras ------------------------- <h1>\n",
    "\n"
   ],
   "metadata": {
    "collapsed": false,
    "pycharm": {
     "name": "#%% md\n"
    }
   }
  },
  {
   "cell_type": "markdown",
   "source": [
    "<h3> Video </h3>\n",
    "\n",
    "Now that we know how to manage a single image, we have to see how to manage some videos stream, like the output of a webcam.<br>\n",
    "\n",
    "Moreover, we will try to modify the content of these output."
   ],
   "metadata": {
    "collapsed": false,
    "pycharm": {
     "name": "#%% md\n"
    }
   }
  },
  {
   "cell_type": "markdown",
   "source": [],
   "metadata": {
    "collapsed": false,
    "pycharm": {
     "name": "#%% md\n"
    }
   }
  },
  {
   "cell_type": "code",
   "execution_count": 9,
   "outputs": [],
   "source": [
    "def get_informations(cap, index):\n",
    "    \"\"\"\n",
    "    :param cap: The object that give the information\n",
    "\n",
    "    :param index: The index of information that we need :\n",
    "        0: Current position of the video file in milliseconds or video capture timestamp.\n",
    "        1: 0-based index of the frame to be decoded/captured next.\n",
    "        2: Relative position of the video file: 0 - start of the film, 1 - end of the film.\n",
    "        3: Width of the frames in the video stream.\n",
    "        4: Height of the frames in the video stream.\n",
    "        5: Frame rate.\n",
    "        6: 4-character code of codec.\n",
    "        7: Number of frames in the video file.\n",
    "        8: Format of the Mat objects\n",
    "        9: Backend-specific value indicating the current capture mode.\n",
    "        10: Brightness of the image (only for cameras).\n",
    "        11: Contrast of the image (only for cameras).\n",
    "        12: Saturation of the image (only for cameras).\n",
    "        13: Hue of the image (only for cameras).\n",
    "        14: Gain of the image (only for cameras).\n",
    "        15: Exposure (only for cameras).\n",
    "        16: Boolean flags indicating whether images should be converted to RGB.\n",
    "        17: The U value of the whitebalance setting (note: only supported by DC1394 v 2.x backend currently)\n",
    "        18: The V value of the whitebalance setting (note: only supported by DC1394 v 2.x backend currently)\n",
    "        19: Rectification flag for stereo cameras (note: only supported by DC1394 v 2.x backend currently)\n",
    "        20: The ISO speed of the camera (note: only supported by DC1394 v 2.x backend currently)\n",
    "        21: Amount of frames stored in internal buffer memory (note: only supported by DC1394 v 2.x backend currently)\n",
    "\n",
    "    :return: The value of the information\n",
    "    \"\"\"\n",
    "    return cap.get(index)"
   ],
   "metadata": {
    "collapsed": false,
    "pycharm": {
     "name": "#%%\n"
    }
   }
  },
  {
   "cell_type": "code",
   "execution_count": 10,
   "outputs": [],
   "source": [
    "running = False\n",
    "if running:\n",
    "    cam = cv2.VideoCapture(0)\n",
    "while running :\n",
    "    #Get the capture of the camera\n",
    "    ret, frame = cam.read()\n",
    "\n",
    "\n",
    "\n",
    "    #Let's try an example, let's make 4 times my face on the camera\n",
    "    smaller_frame = cv2.resize(frame, (0,0), fx=1/2, fy=1/2)\n",
    "\n",
    "    #Change the content of the frame, here make a black screen, to welcome the new frame with the 4 faces\n",
    "    black_frame = np.zeros(frame.shape, np.uint8)\n",
    "\n",
    "    #First we need the dimension of the image\n",
    "    width = int(get_informations(cam, 3))\n",
    "    height = int(get_informations(cam, 4))\n",
    "\n",
    "    #Now let's fill the black_frame\n",
    "    #Top left\n",
    "    black_frame[:height//2, :width//2] = smaller_frame\n",
    "    #Top right\n",
    "    black_frame[:height//2:, width//2:] = smaller_frame\n",
    "    #Bottom left\n",
    "    black_frame[height//2:, :width//2] = smaller_frame\n",
    "    #Bottom right\n",
    "    black_frame[height//2:, width//2:] = smaller_frame\n",
    "\n",
    "\n",
    "    #Let's have more fun, and rotate the images\n",
    "    #Here it s impossible to have a rotation of 90° because the frame is not squared\n",
    "\n",
    "    black_frame[:height//2, :width//2] = smaller_frame\n",
    "    #Top right\n",
    "    black_frame[:height//2:, width//2:] = cv2.cv2.rotate(smaller_frame, cv2.cv2.ROTATE_180)\n",
    "    #Bottom left\n",
    "    black_frame[height//2:, :width//2] = cv2.cv2.rotate(smaller_frame, cv2.cv2.ROTATE_180)\n",
    "    #Bottom right\n",
    "    black_frame[height//2:, width//2:] = smaller_frame\n",
    "    frame_to_display = black_frame\n",
    "    #frame_to_display = frame\n",
    "\n",
    "\n",
    "    #Display the content of the camera\n",
    "    #cv2.imshow('frame', frame_to_display)\n",
    "\n",
    "\n",
    "    #While the key q is not press, we continue tu display\n",
    "    if cv2.waitKey(1) == ord('q') :\n",
    "        running = False\n",
    "\n",
    "#cam.release()\n",
    "#cv2.destroyAllWindows()"
   ],
   "metadata": {
    "collapsed": false,
    "pycharm": {
     "name": "#%%\n"
    }
   }
  },
  {
   "cell_type": "markdown",
   "source": [
    "<h1> -------------------------- Drawing ------------------------- <h1>\n"
   ],
   "metadata": {
    "collapsed": false,
    "pycharm": {
     "name": "#%% md\n"
    }
   }
  },
  {
   "cell_type": "markdown",
   "source": [
    "<h3> Image Representation </h3>\n",
    "\n",
    "Now that we know how to manage the output of our webcam, we have to see how display something into the screen. <br>\n",
    "We will first see how to make simple geometrics forms, and text, that we can use for object detection for example."
   ],
   "metadata": {
    "collapsed": false,
    "pycharm": {
     "name": "#%% md\n"
    }
   }
  },
  {
   "cell_type": "code",
   "execution_count": 11,
   "outputs": [],
   "source": [
    "running = False\n",
    "if running:\n",
    "    cam = cv2.VideoCapture(0)\n",
    "while running:\n",
    "    #Get the capture of the camera\n",
    "    ret, frame = cam.read()\n",
    "\n",
    "    width = int(get_informations(cam, 3))\n",
    "    height = int(get_informations(cam, 4))\n",
    "\n",
    "    #Let's start slowly, with only drawing a blue line who cut the screen\n",
    "\n",
    "    starting_point = (0, 0)\n",
    "    end_point = (width, height)\n",
    "    color = (255, 0, 0)\n",
    "    thickness = 10\n",
    "    #Clone the frame, to not display all the content\n",
    "    img_for_line = np.copy(frame)\n",
    "    frame_with_line = cv2.line(img_for_line, starting_point, end_point, color, thickness)\n",
    "\n",
    "    #Let's get more in details, we can do the exact same things with a rectangle\n",
    "\n",
    "    starting_point = (100, 100)\n",
    "    rect_dimensions = (100, 150)\n",
    "\n",
    "    #adding the starting point with the dimensiosn\n",
    "    end_point = tuple(map(sum, zip(starting_point, rect_dimensions)))\n",
    "    color = (255, 0, 0)\n",
    "    thickness = 10\n",
    "    #Clone the frame, to not display all the content\n",
    "    img_for_rect = np.copy(frame)\n",
    "    frame_with_rect = cv2.rectangle(img_for_rect, starting_point, end_point, color, thickness)\n",
    "\n",
    "    #To finish, let's add a circle into our image\n",
    "    center_position = (width // 2, height // 2)\n",
    "    radius = 400\n",
    "    thickness = 10  #-1 if you want to fill the circle\n",
    "    #Clone the frame, to not display all the content\n",
    "    img_for_circle = np.copy(frame)\n",
    "    frame_with_circle = cv2.circle(img_for_circle, center_position, radius, color, thickness)\n",
    "\n",
    "    #Now we can add a legend on our information, for example, let's keep the circle, and let's add it a legend\n",
    "    font = cv2.FONT_HERSHEY_SIMPLEX\n",
    "    font_scale = 3\n",
    "    center_position = (width // 2 - 400, height // 2 + radius + 100)\n",
    "    text = \"Put your face here\"\n",
    "    color = (0, 0, 0)\n",
    "    line_type = cv2.LINE_AA\n",
    "    thickness = 3\n",
    "    frame_with_circle = cv2.putText(frame_with_circle, text, center_position, font, font_scale, thickness, line_type)\n",
    "\n",
    "    frame_to_display = img_for_circle\n",
    "\n",
    "    #Display the content of the camera\n",
    "    cv2.imshow('frame', frame_to_display)\n",
    "\n",
    "    #While the key q is not press, we continue tu display\n",
    "    if cv2.waitKey(1) == ord('q'):\n",
    "        running = False\n",
    "#cam.release()\n",
    "#cv2.destroyAllWindows()"
   ],
   "metadata": {
    "collapsed": false,
    "pycharm": {
     "name": "#%%\n"
    }
   }
  },
  {
   "cell_type": "markdown",
   "source": [
    "<h1> -------------------------- Colors ------------------------- <h1>\n"
   ],
   "metadata": {
    "collapsed": false,
    "pycharm": {
     "name": "#%% md\n"
    }
   }
  },
  {
   "cell_type": "markdown",
   "source": [
    "<h3> Colors modifications </h3>\n",
    "\n",
    "Now that we know how to put form a certain positions, we need to see how to modify color <br>\n",
    "This can be use to apply mask, make segmentation, ...\n",
    "\n"
   ],
   "metadata": {
    "collapsed": false,
    "pycharm": {
     "name": "#%% md\n"
    }
   }
  },
  {
   "cell_type": "code",
   "execution_count": 12,
   "outputs": [],
   "source": [
    "running = False\n",
    "if running:\n",
    "    cam = cv2.VideoCapture(0)\n",
    "while running :\n",
    "    #Get the capture of the camera\n",
    "    ret, frame = cam.read()\n",
    "\n",
    "    #First, we need to transform the color panel into a HSV one.\n",
    "    HSV = cv2.cvtColor(frame, cv2.COLOR_BGR2HSV)\n",
    "\n",
    "    #Let's apply a blue mask, we need the lower and upper blue, these values are available on the OPENCV webpage\n",
    "    lower_blue = np.array([90, 50, 50])\n",
    "    upper_blue = np.array([130, 255, 255])\n",
    "\n",
    "    #Let's create a mask, this one contain a boolean who told if pixels that are present between lower and opper bound.\n",
    "    mask = cv2.inRange(HSV, lower_blue, upper_blue)\n",
    "\n",
    "    #Apply the mask on the image, here is a and function, if the pixel are the same keep them, black otherwise\n",
    "    #Here we will apply it onto a single image, so the parameters are the same.\n",
    "    result = cv2.bitwise_and(frame, frame, mask=mask)\n",
    "\n",
    "    width = int(get_informations(cam, 3))\n",
    "    height = int(get_informations(cam, 4))\n",
    "\n",
    "    frame_to_display = result\n",
    "\n",
    "    #Display the content of the camera\n",
    "    cv2.imshow('frame', frame_to_display)\n",
    "\n",
    "\n",
    "    #While the key q is not press, we continue tu display\n",
    "    if cv2.waitKey(1) == ord('q') :\n",
    "        running = False\n",
    "#cam.release()\n",
    "#cv2.destroyAllWindows()"
   ],
   "metadata": {
    "collapsed": false,
    "pycharm": {
     "name": "#%%\n"
    }
   }
  },
  {
   "cell_type": "markdown",
   "source": [
    "<h1> -------------------------- Detections ------------------------- <h1>\n",
    "\n",
    "Now that we know how to manage webcam output, we will try to apply some detections on it.\n"
   ],
   "metadata": {
    "collapsed": false,
    "pycharm": {
     "name": "#%% md\n"
    }
   }
  },
  {
   "cell_type": "markdown",
   "source": [
    "<h3> Corner Detection </h3>\n",
    "\n",
    "Let's start with an important one, the corner detection.\n",
    "This will allow us to stay focus in a single image.\n",
    "\n",
    "To do that let's start with a full square image, with a black and white mosaic.\n"
   ],
   "metadata": {
    "collapsed": false,
    "pycharm": {
     "name": "#%% md\n"
    }
   }
  },
  {
   "cell_type": "code",
   "execution_count": 13,
   "outputs": [],
   "source": [
    "img = cv2.imread('assets/squares.png')"
   ],
   "metadata": {
    "collapsed": false,
    "pycharm": {
     "name": "#%%\n"
    }
   }
  },
  {
   "cell_type": "code",
   "execution_count": 14,
   "outputs": [],
   "source": [
    "#Let's first copy this image in gray to help the algorithm\n",
    "gray_img = cv2.cvtColor(img, cv2.COLOR_BGR2GRAY)\n",
    "#Number of output that we want, here let's say 100 corners.\n",
    "nb_best_corners = 100\n",
    "#The minimal confidence of the algorithm\n",
    "min_quality = 0.5\n",
    "#The distance minimal between two corners, computes thanks to an euclidian distance.\n",
    "dist = 1\n",
    "#Get the corners in the image\n",
    "corners = cv2.goodFeaturesToTrack(gray_img, nb_best_corners, min_quality, dist)\n",
    "#Convert it into integer\n",
    "corners = np.int0(corners)"
   ],
   "metadata": {
    "collapsed": false,
    "pycharm": {
     "name": "#%%\n"
    }
   }
  },
  {
   "cell_type": "markdown",
   "source": [
    "<h3> Now let's draw a red circle around them. </h3>"
   ],
   "metadata": {
    "collapsed": false,
    "pycharm": {
     "name": "#%% md\n"
    }
   }
  },
  {
   "cell_type": "code",
   "execution_count": 15,
   "outputs": [],
   "source": [
    "for corner in corners :\n",
    "    #Using ravel to flat the array, for example [[[1],[2]]] -> [1,2]\n",
    "    x, y = corner.ravel()\n",
    "    center_position = (x, y)\n",
    "    radius = 30\n",
    "    thickness = 3  #-1 if you want to fill the circle\n",
    "    color = (0, 0, 255)\n",
    "    img = cv2.circle(img, center_position, radius, color, thickness)\n",
    "#display(img, 0)"
   ],
   "metadata": {
    "collapsed": false,
    "pycharm": {
     "name": "#%%\n"
    }
   }
  },
  {
   "cell_type": "markdown",
   "source": [
    "<h3> Matching </h3>"
   ],
   "metadata": {
    "collapsed": false,
    "pycharm": {
     "name": "#%% md\n"
    }
   }
  }
 ],
 "metadata": {
  "kernelspec": {
   "display_name": "Python 3",
   "language": "python",
   "name": "python3"
  },
  "language_info": {
   "codemirror_mode": {
    "name": "ipython",
    "version": 2
   },
   "file_extension": ".py",
   "mimetype": "text/x-python",
   "name": "python",
   "nbconvert_exporter": "python",
   "pygments_lexer": "ipython2",
   "version": "2.7.6"
  }
 },
 "nbformat": 4,
 "nbformat_minor": 0
}